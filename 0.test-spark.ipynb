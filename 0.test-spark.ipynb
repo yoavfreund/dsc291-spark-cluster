{
 "cells": [
  {
   "cell_type": "markdown",
   "id": "amber-meeting",
   "metadata": {},
   "source": [
    "# Using Spark for the first time \n",
    "In this notebook, you will run Spark as a remote server.\n",
    "Before running the notebook, read the directions in 'Start Spark Cluster on Datahub.pdf'"
   ]
  },
  {
   "cell_type": "code",
   "execution_count": 2,
   "id": "engaged-tenant",
   "metadata": {},
   "outputs": [
    {
     "ename": "NameError",
     "evalue": "name 'sc' is not defined",
     "output_type": "error",
     "traceback": [
      "\u001b[0;31m---------------------------------------------------------------------------\u001b[0m",
      "\u001b[0;31mNameError\u001b[0m                                 Traceback (most recent call last)",
      "\u001b[0;32m<ipython-input-2-3d73a71fb7b6>\u001b[0m in \u001b[0;36m<module>\u001b[0;34m\u001b[0m\n\u001b[0;32m----> 1\u001b[0;31m \u001b[0msc\u001b[0m\u001b[0;34m.\u001b[0m\u001b[0mstop\u001b[0m\u001b[0;34m(\u001b[0m\u001b[0;34m)\u001b[0m \u001b[0;31m# use this line if you get the error \"only one SparkContext at a time\"\u001b[0m\u001b[0;34m\u001b[0m\u001b[0;34m\u001b[0m\u001b[0m\n\u001b[0m",
      "\u001b[0;31mNameError\u001b[0m: name 'sc' is not defined"
     ]
    }
   ],
   "source": [
    "# sc.stop() # use this line if you get the error \"only one SparkContext at a time\""
   ]
  },
  {
   "cell_type": "code",
   "execution_count": 5,
   "id": "referenced-grounds",
   "metadata": {},
   "outputs": [],
   "source": [
    "import pyspark\n",
    "from pyspark import SparkContext\n",
    "from lib import sparkConfig\n",
    "\n",
    "sc = SparkContext(conf=sparkConfig.conf)"
   ]
  },
  {
   "cell_type": "markdown",
   "id": "anticipated-worship",
   "metadata": {},
   "source": [
    "### A simple script to test whether spark works (using a server)\n",
    "First, we load the fondiguration and start a spark context"
   ]
  },
  {
   "cell_type": "markdown",
   "id": "brown-masters",
   "metadata": {},
   "source": [
    "Second, we create an RDD of odd numbers, then take a small sample from it."
   ]
  },
  {
   "cell_type": "code",
   "execution_count": 8,
   "id": "characteristic-daily",
   "metadata": {},
   "outputs": [
    {
     "data": {
      "text/plain": [
       "[1449, 3451, 3495, 3877, 7041, 9003, 9635]"
      ]
     },
     "execution_count": 8,
     "metadata": {},
     "output_type": "execute_result"
    }
   ],
   "source": [
    "big_list = range(10000)\n",
    "rdd = sc.parallelize(big_list, 2)\n",
    "odds = rdd.filter(lambda x: x % 2 != 0)\n",
    "odds.sample(True,0.001).collect()"
   ]
  },
  {
   "cell_type": "code",
   "execution_count": 6,
   "id": "baking-entertainment",
   "metadata": {},
   "outputs": [
    {
     "name": "stdout",
     "output_type": "stream",
     "text": [
      "/srv/nbgrader/DSC291_SP21_A00\n"
     ]
    }
   ],
   "source": [
    "%cd ~"
   ]
  },
  {
   "cell_type": "code",
   "execution_count": null,
   "id": "interracial-skirt",
   "metadata": {},
   "outputs": [],
   "source": []
  },
  {
   "cell_type": "code",
   "execution_count": null,
   "id": "iraqi-senegal",
   "metadata": {},
   "outputs": [],
   "source": []
  }
 ],
 "metadata": {
  "kernelspec": {
   "display_name": "Python 3",
   "language": "python",
   "name": "python3"
  },
  "language_info": {
   "codemirror_mode": {
    "name": "ipython",
    "version": 3
   },
   "file_extension": ".py",
   "mimetype": "text/x-python",
   "name": "python",
   "nbconvert_exporter": "python",
   "pygments_lexer": "ipython3",
   "version": "3.6.13"
  }
 },
 "nbformat": 4,
 "nbformat_minor": 5
}
